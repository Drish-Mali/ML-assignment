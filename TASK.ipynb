{
 "cells": [
  {
   "cell_type": "markdown",
   "metadata": {},
   "source": [
    "# Prediction of the wine dataset\n",
    "The data conssts of 12 columns where variety is the output column where prediction is to be done. The propsed model is a logistic regression model which use country,province,region_1,region_2,winery,price for prediction of variety. Intially there are some null values so -1 is replaced in all th columns to be used to fill the null values as shown below.The dataset is loaded into the the variable data."
   ]
  },
  {
   "cell_type": "code",
   "execution_count": 9,
   "metadata": {
    "scrolled": true
   },
   "outputs": [
    {
     "name": "stdout",
     "output_type": "stream",
     "text": [
      "       user_name    country  \\\n",
      "0            NaN  Australia   \n",
      "1  @wawinereport         US   \n",
      "2            NaN      Italy   \n",
      "3     @vossroger     France   \n",
      "4     @vossroger     France   \n",
      "\n",
      "                                        review_title  \\\n",
      "0  Andrew Peace 2007 Peace Family Vineyard Chardo...   \n",
      "1  North by Northwest 2014 Red (Columbia Valley (...   \n",
      "2                  Renato Ratti 2007 Conca  (Barolo)   \n",
      "3  Domaine l'Ancienne Cure 2010 L'Abbaye White (B...   \n",
      "4  Château du Cèdre 2012 Le Cèdre Vintage Malbec ...   \n",
      "\n",
      "                                  review_description            designation  \\\n",
      "0  Classic Chardonnay aromas of apple, pear and h...  Peace Family Vineyard   \n",
      "1  This wine is near equal parts Syrah and Merlot...                    NaN   \n",
      "2  Barolo Conca opens with inky dark concentratio...                  Conca   \n",
      "3  It's impressive what a small addition of Sauvi...               L'Abbaye   \n",
      "4  This ripe, sweet wine is rich and full of drie...       Le Cèdre Vintage   \n",
      "\n",
      "   points  price          province                 region_1         region_2  \\\n",
      "0      83   10.0   Australia Other  South Eastern Australia              NaN   \n",
      "1      89   15.0        Washington     Columbia Valley (WA)  Columbia Valley   \n",
      "2      94   80.0          Piedmont                   Barolo              NaN   \n",
      "3      87   22.0  Southwest France             Bergerac Sec              NaN   \n",
      "4      88   33.0      France Other           Vin de Liqueur              NaN   \n",
      "\n",
      "                    winery                     variety  \n",
      "0             Andrew Peace                  Chardonnay  \n",
      "1       North by Northwest                   Red Blend  \n",
      "2             Renato Ratti                    Nebbiolo  \n",
      "3  Domaine l'Ancienne Cure  Bordeaux-style White Blend  \n",
      "4         Château du Cèdre                      Malbec  \n",
      "             points         price\n",
      "count  82657.000000  77088.000000\n",
      "mean      88.544564     36.922232\n",
      "std        3.099649     43.698346\n",
      "min       80.000000      4.000000\n",
      "25%       86.000000     18.000000\n",
      "50%       88.000000     27.000000\n",
      "75%       91.000000     45.000000\n",
      "max      100.000000   3300.000000\n",
      "<class 'pandas.core.frame.DataFrame'>\n",
      "RangeIndex: 82657 entries, 0 to 82656\n",
      "Data columns (total 12 columns):\n",
      "user_name             63264 non-null object\n",
      "country               82622 non-null object\n",
      "review_title          82657 non-null object\n",
      "review_description    82657 non-null object\n",
      "designation           59010 non-null object\n",
      "points                82657 non-null int64\n",
      "price                 77088 non-null float64\n",
      "province              82622 non-null object\n",
      "region_1              69903 non-null object\n",
      "region_2              35949 non-null object\n",
      "winery                82657 non-null object\n",
      "variety               82657 non-null object\n",
      "dtypes: float64(1), int64(1), object(10)\n",
      "memory usage: 7.6+ MB\n",
      "None\n",
      "<class 'pandas.core.frame.DataFrame'>\n",
      "RangeIndex: 82657 entries, 0 to 82656\n",
      "Data columns (total 12 columns):\n",
      "user_name             63264 non-null object\n",
      "country               82657 non-null object\n",
      "review_title          82657 non-null object\n",
      "review_description    82657 non-null object\n",
      "designation           59010 non-null object\n",
      "points                82657 non-null int64\n",
      "price                 82657 non-null float64\n",
      "province              82657 non-null object\n",
      "region_1              82657 non-null object\n",
      "region_2              82657 non-null object\n",
      "winery                82657 non-null object\n",
      "variety               82657 non-null object\n",
      "dtypes: float64(1), int64(1), object(10)\n",
      "memory usage: 7.6+ MB\n",
      "None\n"
     ]
    }
   ],
   "source": [
    "\n",
    "import pandas as pd\n",
    "import numpy as np \n",
    "import matplotlib.pyplot as plt\n",
    "data=pd.read_csv('train.csv')\n",
    "print(data.head())\n",
    "print(data.describe())\n",
    "print(data.info())\n",
    "\n",
    "values={'country':'-1','province':'-1','region_1':'-1','region_2':'-1','winery':'-1','variety':'-1','price':-1}\n",
    "data.fillna(value=values,inplace=True)\n",
    "print(data.info())"
   ]
  },
  {
   "cell_type": "markdown",
   "metadata": {},
   "source": [
    "# Finding the category values for label encoding\n",
    "For the model to predict all te values should be numeric so al the category data is converted into numerical values using label encoding as shown below."
   ]
  },
  {
   "cell_type": "code",
   "execution_count": 10,
   "metadata": {},
   "outputs": [
    {
     "name": "stdout",
     "output_type": "stream",
     "text": [
      "{0: '-1', 1: 'Argentina', 2: 'Australia', 3: 'Austria', 4: 'Brazil', 5: 'Bulgaria', 6: 'Canada', 7: 'Chile', 8: 'Croatia', 9: 'Cyprus', 10: 'Czech Republic', 11: 'England', 12: 'France', 13: 'Georgia', 14: 'Germany', 15: 'Greece', 16: 'Hungary', 17: 'India', 18: 'Israel', 19: 'Italy', 20: 'Lebanon', 21: 'Luxembourg', 22: 'Macedonia', 23: 'Mexico', 24: 'Moldova', 25: 'Morocco', 26: 'New Zealand', 27: 'Peru', 28: 'Portugal', 29: 'Romania', 30: 'Serbia', 31: 'Slovenia', 32: 'South Africa', 33: 'Spain', 34: 'Switzerland', 35: 'Turkey', 36: 'US', 37: 'Ukraine', 38: 'Uruguay'}\n",
      "{0: '-1', 1: 'California Other', 2: 'Central Coast', 3: 'Central Valley', 4: 'Columbia Valley', 5: 'Finger Lakes', 6: 'Long Island', 7: 'Napa', 8: 'Napa-Sonoma', 9: 'New York Other', 10: 'North Coast', 11: 'Oregon Other', 12: 'Sierra Foothills', 13: 'Sonoma', 14: 'South Coast', 15: 'Southern Oregon', 16: 'Washington Other', 17: 'Willamette Valley'}\n",
      "   country  points  price  province  region_1  region_2  winery\n",
      "0        2      83   10.0        17       849         0     399\n",
      "1       36      89   15.0       345       239         4    9668\n",
      "2       19      94   80.0       234        65         0   10873\n",
      "3       12      87   22.0       281        86         0    5427\n",
      "4       12      88   33.0       104       953         0    3789\n",
      "<class 'pandas.core.frame.DataFrame'>\n",
      "RangeIndex: 82657 entries, 0 to 82656\n",
      "Data columns (total 7 columns):\n",
      "country     82657 non-null int8\n",
      "points      82657 non-null int64\n",
      "price       82657 non-null float64\n",
      "province    82657 non-null int16\n",
      "region_1    82657 non-null int16\n",
      "region_2    82657 non-null int8\n",
      "winery      82657 non-null int16\n",
      "dtypes: float64(1), int16(3), int64(1), int8(2)\n",
      "memory usage: 1.9 MB\n",
      "None\n"
     ]
    }
   ],
   "source": [
    "\n",
    "d1=data.country.astype('category')\n",
    "country_dict = dict(enumerate(d1.cat.categories))\n",
    "d2=data.region_2.astype('category')\n",
    "region_2_dict = dict(enumerate(d2.cat.categories))\n",
    "d3=data.province.astype('category')\n",
    "province_dict = dict(enumerate(d3.cat.categories))\n",
    "d4=data.region_1.astype('category')\n",
    "region_1_dict = dict(enumerate(d4.cat.categories))\n",
    "d5=data.winery.astype('category')\n",
    "winery_dict = dict(enumerate(d5.cat.categories))\n",
    "data.country=data.country.astype('category').cat.codes\n",
    "data.region_2=data.region_2.astype('category').cat.codes\n",
    "data.region_1=data.region_1.astype('category').cat.codes\n",
    "data.province=data.province.astype('category').cat.codes\n",
    "data.winery=data.winery.astype('category').cat.codes\n",
    "x=data[['country','points','price','province','region_1','region_2','winery']]\n",
    "\n",
    "print (country_dict)\n",
    "print(region_2_dict)\n",
    "print(x.head())\n",
    "print(x.info())"
   ]
  },
  {
   "cell_type": "code",
   "execution_count": 11,
   "metadata": {},
   "outputs": [
    {
     "name": "stdout",
     "output_type": "stream",
     "text": [
      "[ 5 17 11 ...  6  0  3]\n",
      "<class 'pandas.core.frame.DataFrame'>\n",
      "RangeIndex: 20665 entries, 0 to 20664\n",
      "Data columns (total 11 columns):\n",
      "user_name             15927 non-null object\n",
      "country               20661 non-null object\n",
      "review_title          20665 non-null object\n",
      "review_description    20665 non-null object\n",
      "designation           14676 non-null object\n",
      "points                20665 non-null int64\n",
      "price                 19271 non-null float64\n",
      "province              20661 non-null object\n",
      "region_1              17351 non-null object\n",
      "region_2              8914 non-null object\n",
      "winery                20665 non-null object\n",
      "dtypes: float64(1), int64(1), object(9)\n",
      "memory usage: 1.7+ MB\n",
      "None\n"
     ]
    }
   ],
   "source": [
    "\n",
    "y=data.iloc[:,-1].values\n",
    "from sklearn.preprocessing import LabelEncoder \n",
    "ly = LabelEncoder()\n",
    "y = ly.fit_transform(y)\n",
    "print(y)\n",
    "df=pd.read_csv('test.csv')\n",
    "print(df.info())"
   ]
  },
  {
   "cell_type": "markdown",
   "metadata": {},
   "source": [
    "# Creatning the Logistic regression for prediction\n",
    "The test set model is also prepared where the inverse of the dictionary is used to map and preprocess the test set. "
   ]
  },
  {
   "cell_type": "code",
   "execution_count": 12,
   "metadata": {},
   "outputs": [
    {
     "data": {
      "text/plain": [
       "LogisticRegression(C=1.0, class_weight=None, dual=False, fit_intercept=True,\n",
       "          intercept_scaling=1, max_iter=100, multi_class='multinomial',\n",
       "          n_jobs=1, penalty='l2', random_state=None, solver='lbfgs',\n",
       "          tol=0.0001, verbose=0, warm_start=False)"
      ]
     },
     "execution_count": 12,
     "metadata": {},
     "output_type": "execute_result"
    }
   ],
   "source": [
    "from sklearn.linear_model import LogisticRegression\n",
    "logreg = LogisticRegression(solver = 'lbfgs',multi_class='multinomial')\n",
    "logreg.fit(x,y)\n"
   ]
  },
  {
   "cell_type": "code",
   "execution_count": 43,
   "metadata": {},
   "outputs": [
    {
     "name": "stdout",
     "output_type": "stream",
     "text": [
      "     country  points  price          province                region_1  \\\n",
      "0         US      88   35.0            Oregon       Willamette Valley   \n",
      "1  Argentina      90   60.0  Mendoza Province                 Mendoza   \n",
      "2         US      87   38.0        California             Coombsville   \n",
      "3  Argentina      91   20.0  Mendoza Province                 Mendoza   \n",
      "4      Italy      90   49.0           Tuscany  Brunello di Montalcino   \n",
      "\n",
      "            region_2                 winery  \n",
      "0  Willamette Valley      Boedecker Cellars  \n",
      "1                 -1      Mendoza Vineyards  \n",
      "2               Napa                  Prime  \n",
      "3                 -1  Bodega Cuarto Dominio  \n",
      "4                 -1            SassodiSole  \n",
      "<class 'pandas.core.frame.DataFrame'>\n",
      "RangeIndex: 20665 entries, 0 to 20664\n",
      "Data columns (total 7 columns):\n",
      "country     20665 non-null object\n",
      "points      20665 non-null int64\n",
      "price       20665 non-null float64\n",
      "province    20665 non-null object\n",
      "region_1    20665 non-null object\n",
      "region_2    20665 non-null object\n",
      "winery      20665 non-null object\n",
      "dtypes: float64(1), int64(1), object(5)\n",
      "memory usage: 1.1+ MB\n",
      "None\n"
     ]
    }
   ],
   "source": [
    "x_test=pd.read_csv(\"test.csv\")\n",
    "x_test=x_test[['country','points','price','province','region_1','region_2','winery']]\n",
    "values={'country':'-1','province':'-1','region_1':'-1','region_2':'-1','winery':'-1','variety':'-1','price':-1}\n",
    "x_test.fillna(value=values,inplace=True)\n",
    "print(x_test.head())\n",
    "print(x_test.info())"
   ]
  },
  {
   "cell_type": "code",
   "execution_count": 46,
   "metadata": {},
   "outputs": [
    {
     "name": "stdout",
     "output_type": "stream",
     "text": [
      "{'-1': 0, 'Argentina': 1, 'Australia': 2, 'Austria': 3, 'Brazil': 4, 'Bulgaria': 5, 'Canada': 6, 'Chile': 7, 'Croatia': 8, 'Cyprus': 9, 'Czech Republic': 10, 'England': 11, 'France': 12, 'Georgia': 13, 'Germany': 14, 'Greece': 15, 'Hungary': 16, 'India': 17, 'Israel': 18, 'Italy': 19, 'Lebanon': 20, 'Luxembourg': 21, 'Macedonia': 22, 'Mexico': 23, 'Moldova': 24, 'Morocco': 25, 'New Zealand': 26, 'Peru': 27, 'Portugal': 28, 'Romania': 29, 'Serbia': 30, 'Slovenia': 31, 'South Africa': 32, 'Spain': 33, 'Switzerland': 34, 'Turkey': 35, 'US': 36, 'Ukraine': 37, 'Uruguay': 38}\n"
     ]
    }
   ],
   "source": [
    "\n",
    "\n",
    "country_dict = {value:key for key, value in country_dict.items()}\n",
    "province_dict = {value:key for key, value in province_dict.items()}\n",
    "region_1_dict = {value:key for key, value in region_1_dict.items()}\n",
    "region_2_dict = {value:key for key, value in region_2_dict.items()}\n",
    "winery_dict = {value:key for key, value in winery_dict.items()}\n",
    "print((country_dict))\n",
    "#x_test['country']=x_test['country'].map(country_dict)\n",
    "#x_test['province']=x_test['province'].map(province_dict)\n",
    "#x_test['region_1']=x_test['region_1'].map(region_1_dict)\n",
    "#x_test['region_2']=x_test['region_2'].map(region_2_dict)\n",
    "#x_test['winery']=x_test['winery'].map(winery_dict)\n",
    "#clean_up={'country':country_dict,'province':province_dict,'region_1':region_1_dict,'region_2':region_2_dict,'winery':winery_dict}\n",
    "#print(type(clean_up))\n",
    "x_test.replace({'country':country_dict},inplace=True)\n",
    "x_test.replace({'province':province_dict},inplace=True)\n",
    "x_test.replace({'region_1':region_1_dict},inplace=True)\n",
    "x_test.replace({'region_2':region_2_dict},inplace=True)\n",
    "x_test.replace({'winery':winery_dict},inplace=True)\n",
    "\n",
    "#x_test['country'].astype(str).update(pd.Series(country_dict))"
   ]
  },
  {
   "cell_type": "markdown",
   "metadata": {},
   "source": [
    "# Using the created model to predict the testing sample"
   ]
  },
  {
   "cell_type": "code",
   "execution_count": 49,
   "metadata": {},
   "outputs": [
    {
     "ename": "ValueError",
     "evalue": "could not convert string to float: 'Quinta do Cruzeiro'",
     "output_type": "error",
     "traceback": [
      "\u001b[1;31m---------------------------------------------------------------------------\u001b[0m",
      "\u001b[1;31mValueError\u001b[0m                                Traceback (most recent call last)",
      "\u001b[1;32m<ipython-input-49-8652386801e2>\u001b[0m in \u001b[0;36m<module>\u001b[1;34m()\u001b[0m\n\u001b[1;32m----> 1\u001b[1;33m \u001b[0my_pred\u001b[0m \u001b[1;33m=\u001b[0m \u001b[0mlogreg\u001b[0m\u001b[1;33m.\u001b[0m\u001b[0mpredict\u001b[0m\u001b[1;33m(\u001b[0m\u001b[0mx_test\u001b[0m\u001b[1;33m)\u001b[0m\u001b[1;33m\u001b[0m\u001b[0m\n\u001b[0m",
      "\u001b[1;32m~\\Anaconda3\\lib\\site-packages\\sklearn\\linear_model\\base.py\u001b[0m in \u001b[0;36mpredict\u001b[1;34m(self, X)\u001b[0m\n\u001b[0;32m    322\u001b[0m             \u001b[0mPredicted\u001b[0m \u001b[1;32mclass\u001b[0m \u001b[0mlabel\u001b[0m \u001b[0mper\u001b[0m \u001b[0msample\u001b[0m\u001b[1;33m.\u001b[0m\u001b[1;33m\u001b[0m\u001b[0m\n\u001b[0;32m    323\u001b[0m         \"\"\"\n\u001b[1;32m--> 324\u001b[1;33m         \u001b[0mscores\u001b[0m \u001b[1;33m=\u001b[0m \u001b[0mself\u001b[0m\u001b[1;33m.\u001b[0m\u001b[0mdecision_function\u001b[0m\u001b[1;33m(\u001b[0m\u001b[0mX\u001b[0m\u001b[1;33m)\u001b[0m\u001b[1;33m\u001b[0m\u001b[0m\n\u001b[0m\u001b[0;32m    325\u001b[0m         \u001b[1;32mif\u001b[0m \u001b[0mlen\u001b[0m\u001b[1;33m(\u001b[0m\u001b[0mscores\u001b[0m\u001b[1;33m.\u001b[0m\u001b[0mshape\u001b[0m\u001b[1;33m)\u001b[0m \u001b[1;33m==\u001b[0m \u001b[1;36m1\u001b[0m\u001b[1;33m:\u001b[0m\u001b[1;33m\u001b[0m\u001b[0m\n\u001b[0;32m    326\u001b[0m             \u001b[0mindices\u001b[0m \u001b[1;33m=\u001b[0m \u001b[1;33m(\u001b[0m\u001b[0mscores\u001b[0m \u001b[1;33m>\u001b[0m \u001b[1;36m0\u001b[0m\u001b[1;33m)\u001b[0m\u001b[1;33m.\u001b[0m\u001b[0mastype\u001b[0m\u001b[1;33m(\u001b[0m\u001b[0mnp\u001b[0m\u001b[1;33m.\u001b[0m\u001b[0mint\u001b[0m\u001b[1;33m)\u001b[0m\u001b[1;33m\u001b[0m\u001b[0m\n",
      "\u001b[1;32m~\\Anaconda3\\lib\\site-packages\\sklearn\\linear_model\\base.py\u001b[0m in \u001b[0;36mdecision_function\u001b[1;34m(self, X)\u001b[0m\n\u001b[0;32m    298\u001b[0m                                  \"yet\" % {'name': type(self).__name__})\n\u001b[0;32m    299\u001b[0m \u001b[1;33m\u001b[0m\u001b[0m\n\u001b[1;32m--> 300\u001b[1;33m         \u001b[0mX\u001b[0m \u001b[1;33m=\u001b[0m \u001b[0mcheck_array\u001b[0m\u001b[1;33m(\u001b[0m\u001b[0mX\u001b[0m\u001b[1;33m,\u001b[0m \u001b[0maccept_sparse\u001b[0m\u001b[1;33m=\u001b[0m\u001b[1;34m'csr'\u001b[0m\u001b[1;33m)\u001b[0m\u001b[1;33m\u001b[0m\u001b[0m\n\u001b[0m\u001b[0;32m    301\u001b[0m \u001b[1;33m\u001b[0m\u001b[0m\n\u001b[0;32m    302\u001b[0m         \u001b[0mn_features\u001b[0m \u001b[1;33m=\u001b[0m \u001b[0mself\u001b[0m\u001b[1;33m.\u001b[0m\u001b[0mcoef_\u001b[0m\u001b[1;33m.\u001b[0m\u001b[0mshape\u001b[0m\u001b[1;33m[\u001b[0m\u001b[1;36m1\u001b[0m\u001b[1;33m]\u001b[0m\u001b[1;33m\u001b[0m\u001b[0m\n",
      "\u001b[1;32m~\\Anaconda3\\lib\\site-packages\\sklearn\\utils\\validation.py\u001b[0m in \u001b[0;36mcheck_array\u001b[1;34m(array, accept_sparse, dtype, order, copy, force_all_finite, ensure_2d, allow_nd, ensure_min_samples, ensure_min_features, warn_on_dtype, estimator)\u001b[0m\n\u001b[0;32m    446\u001b[0m         \u001b[1;31m# make sure we actually converted to numeric:\u001b[0m\u001b[1;33m\u001b[0m\u001b[1;33m\u001b[0m\u001b[0m\n\u001b[0;32m    447\u001b[0m         \u001b[1;32mif\u001b[0m \u001b[0mdtype_numeric\u001b[0m \u001b[1;32mand\u001b[0m \u001b[0marray\u001b[0m\u001b[1;33m.\u001b[0m\u001b[0mdtype\u001b[0m\u001b[1;33m.\u001b[0m\u001b[0mkind\u001b[0m \u001b[1;33m==\u001b[0m \u001b[1;34m\"O\"\u001b[0m\u001b[1;33m:\u001b[0m\u001b[1;33m\u001b[0m\u001b[0m\n\u001b[1;32m--> 448\u001b[1;33m             \u001b[0marray\u001b[0m \u001b[1;33m=\u001b[0m \u001b[0marray\u001b[0m\u001b[1;33m.\u001b[0m\u001b[0mastype\u001b[0m\u001b[1;33m(\u001b[0m\u001b[0mnp\u001b[0m\u001b[1;33m.\u001b[0m\u001b[0mfloat64\u001b[0m\u001b[1;33m)\u001b[0m\u001b[1;33m\u001b[0m\u001b[0m\n\u001b[0m\u001b[0;32m    449\u001b[0m         \u001b[1;32mif\u001b[0m \u001b[1;32mnot\u001b[0m \u001b[0mallow_nd\u001b[0m \u001b[1;32mand\u001b[0m \u001b[0marray\u001b[0m\u001b[1;33m.\u001b[0m\u001b[0mndim\u001b[0m \u001b[1;33m>=\u001b[0m \u001b[1;36m3\u001b[0m\u001b[1;33m:\u001b[0m\u001b[1;33m\u001b[0m\u001b[0m\n\u001b[0;32m    450\u001b[0m             raise ValueError(\"Found array with dim %d. %s expected <= 2.\"\n",
      "\u001b[1;31mValueError\u001b[0m: could not convert string to float: 'Quinta do Cruzeiro'"
     ]
    }
   ],
   "source": [
    "y_pred = logreg.predict(x_test)"
   ]
  },
  {
   "cell_type": "markdown",
   "metadata": {},
   "source": [
    "# Conclusion\n",
    "After inspection we can conclude that the model had errors as while predicting because the training set doesn't contain few values in column winery that test set have. We can remove such values or set them to -1 to avoid this error. We can further enchance the model performance by using the review_description column by performing sentiment analysis and genearting postive or negative review score."
   ]
  }
 ],
 "metadata": {
  "kernelspec": {
   "display_name": "Python 3",
   "language": "python",
   "name": "python3"
  },
  "language_info": {
   "codemirror_mode": {
    "name": "ipython",
    "version": 3
   },
   "file_extension": ".py",
   "mimetype": "text/x-python",
   "name": "python",
   "nbconvert_exporter": "python",
   "pygments_lexer": "ipython3",
   "version": "3.6.4"
  }
 },
 "nbformat": 4,
 "nbformat_minor": 2
}
